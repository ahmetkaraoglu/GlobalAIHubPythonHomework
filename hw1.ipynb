{
  "nbformat": 4,
  "nbformat_minor": 0,
  "metadata": {
    "kernelspec": {
      "display_name": "Python 3",
      "language": "python",
      "name": "python3"
    },
    "language_info": {
      "codemirror_mode": {
        "name": "ipython",
        "version": 3
      },
      "file_extension": ".py",
      "mimetype": "text/x-python",
      "name": "python",
      "nbconvert_exporter": "python",
      "pygments_lexer": "ipython3",
      "version": "3.8.3"
    },
    "colab": {
      "name": "hw1.ipynb",
      "provenance": []
    }
  },
  "cells": [
    {
      "cell_type": "code",
      "metadata": {
        "id": "n4CpKWC6tVN0",
        "outputId": "3747b659-9d6f-4606-fda4-94ff52ae28e4"
      },
      "source": [
        "d1=int(input(\"Integer bir değer giriniz : \"))\n",
        "d2=float(input(\"Float bir değer giriniz : \"))\n",
        "d3=str(input(\"String bir değer giriniz : \"))\n",
        "d4=int(input(\"Integer bir değer giriniz : \"))\n",
        "d5=str(input(\"String bir değer giriniz : \"))\n",
        "print(\"------------------------\")\n",
        "print(\"Girilen Değer ve Tipi\")\n",
        "print(\"------------------------\")\n",
        "print(f\"d1:{d1} tip:{type(d1)}\\nd2:{d2} tip:{type(d2)}\\nd3:{d3} tip:{type(d3)}\\nd4:{d4} tip:{type(d4)}\\nd5:{d5} tip:{type(d5)}\")"
      ],
      "execution_count": null,
      "outputs": [
        {
          "output_type": "stream",
          "text": [
            "Integer bir değer giriniz : 10\n",
            "Float bir değer giriniz : 10.2\n",
            "String bir değer giriniz : ahmet\n",
            "Integer bir değer giriniz : 3\n",
            "String bir değer giriniz : betül\n",
            "Girilen Değer ve Tipi\n",
            "------------------------\n",
            "d1:10 tip:<class 'int'>\n",
            "d2:10.2 tip:<class 'float'>\n",
            "d3:ahmet tip:<class 'str'>\n",
            "d4:3 tip:<class 'int'>\n",
            "d5:betül tip:<class 'str'>\n"
          ],
          "name": "stdout"
        }
      ]
    },
    {
      "cell_type": "code",
      "metadata": {
        "id": "EMsdlhbLtVN3"
      },
      "source": [
        ""
      ],
      "execution_count": null,
      "outputs": []
    }
  ]
}