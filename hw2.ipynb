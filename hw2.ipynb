{
  "nbformat": 4,
  "nbformat_minor": 0,
  "metadata": {
    "colab": {
      "name": "hw2.ipynb",
      "provenance": [],
      "collapsed_sections": []
    },
    "kernelspec": {
      "name": "python3",
      "display_name": "Python 3"
    }
  },
  "cells": [
    {
      "cell_type": "code",
      "metadata": {
        "id": "NB5tC7pQVtvB",
        "colab": {
          "base_uri": "https://localhost:8080/"
        },
        "outputId": "339959bd-af15-4e1e-c15b-4e68e22469b6"
      },
      "source": [
        "user={}\r\n",
        "info=[\"ad\",\"soyad\",\"yaş\",\"doğum tarihi\"]\r\n",
        "for x in range(2):\r\n",
        "  inf={}\r\n",
        "  for y in range(len(info)):\r\n",
        "    inf[info[y]]= str(input(f\"{x+1}. user {info[y]} girin :\"))\r\n",
        "    user[x]=inf\r\n",
        "  print(\"---------------------------------------\")\r\n",
        "print(\"------Girilen Kullanıcı Bilgileri---------\"),\r\n",
        "for z in user:\r\n",
        "    if int(user[z]['yaş'])<18 :\r\n",
        "      print (str(user[z]) + \" You can't go out because it's too dangerous.....\")  \r\n",
        "    else :\r\n",
        "      print (str(user[z]) + \" You can go out the street....\")  \r\n",
        "#print(user)"
      ],
      "execution_count": 32,
      "outputs": [
        {
          "output_type": "stream",
          "text": [
            "1. user ad girin :Ahmet\n",
            "1. user soyad girin :Karaoğlu\n",
            "1. user yaş girin :17\n",
            "1. user doğum tarihi girin :1993\n",
            "---------------------------------------\n",
            "2. user ad girin :Mustafa\n",
            "2. user soyad girin :Karabacak\n",
            "2. user yaş girin :18\n",
            "2. user doğum tarihi girin :2002\n",
            "---------------------------------------\n",
            "------Girilen Kullanıcı Bilgileri---------\n",
            "{'ad': 'Ahmet', 'soyad': 'Karaoğlu', 'yaş': '17', 'doğum tarihi': '1993'} You can't go out because it's too dangerous.....\n",
            "{'ad': 'Mustafa', 'soyad': 'Karabacak', 'yaş': '18', 'doğum tarihi': '2002'} You can go out the street....\n"
          ],
          "name": "stdout"
        }
      ]
    }
  ]
}